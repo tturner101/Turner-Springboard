{
 "cells": [
  {
   "cell_type": "code",
   "execution_count": null,
   "metadata": {},
   "outputs": [],
   "source": [
    "'''\n",
    "import sqlite3\n",
    "from sqlite3 import Error\n",
    "\n",
    " \n",
    "def create_connection(db_file):\n",
    "    \"\"\" create a database connection to the SQLite database\n",
    "        specified by the db_file\n",
    "    :param db_file: database file\n",
    "    :return: Connection object or None\n",
    "    \"\"\"\n",
    "    conn = None\n",
    "    try:\n",
    "        conn = sqlite3.connect(db_file)\n",
    "        print(sqlite3.version)\n",
    "    except Error as e:\n",
    "        print(e)\n",
    " \n",
    "    return conn\n",
    "\n",
    " \n",
    "def select_all_tasks(conn):\n",
    "    \"\"\"\n",
    "    Query all rows in the tasks table\n",
    "    :param conn: the Connection object\n",
    "    :return:\n",
    "    \"\"\"\n",
    "    cur = conn.cursor()\n",
    "    \n",
    "    query1 = \"\"\"\n",
    "        SELECT *\n",
    "        FROM FACILITIES\n",
    "        \"\"\"\n",
    "    cur.execute(query1)\n",
    " \n",
    "    rows = cur.fetchall()\n",
    "    return list(rows)\n",
    " \n",
    "    #for row in rows:\n",
    "     #   print(row)\n",
    "\n",
    "\n",
    "def main():\n",
    "    database = \"sqlite_db_pythonsqlite.db\"\n",
    " \n",
    "    # create a database connection\n",
    "    conn = create_connection(database)\n",
    "    with conn: \n",
    "        print(\"2. Query all tasks\")\n",
    "        return select_all_tasks(conn)\n",
    "''' "
   ]
  },
  {
   "cell_type": "code",
   "execution_count": null,
   "metadata": {},
   "outputs": [],
   "source": [
    "'''main()\n",
    "data=main()\n",
    "type(data)\n",
    "data"
   ]
  },
  {
   "cell_type": "code",
   "execution_count": 1,
   "metadata": {},
   "outputs": [
    {
     "name": "stdout",
     "output_type": "stream",
     "text": [
      "Requirement already satisfied: ipython-sql in /opt/anaconda3/lib/python3.8/site-packages (0.4.0)\n",
      "Requirement already satisfied: ipython>=1.0 in /opt/anaconda3/lib/python3.8/site-packages (from ipython-sql) (7.19.0)\n",
      "Requirement already satisfied: sqlparse in /opt/anaconda3/lib/python3.8/site-packages (from ipython-sql) (0.4.1)\n",
      "Requirement already satisfied: sqlalchemy>=0.6.7 in /opt/anaconda3/lib/python3.8/site-packages (from ipython-sql) (1.3.20)\n",
      "Requirement already satisfied: ipython-genutils>=0.1.0 in /opt/anaconda3/lib/python3.8/site-packages (from ipython-sql) (0.2.0)\n",
      "Requirement already satisfied: six in /opt/anaconda3/lib/python3.8/site-packages (from ipython-sql) (1.15.0)\n",
      "Requirement already satisfied: prettytable<1 in /opt/anaconda3/lib/python3.8/site-packages (from ipython-sql) (0.7.2)\n",
      "Requirement already satisfied: decorator in /opt/anaconda3/lib/python3.8/site-packages (from ipython>=1.0->ipython-sql) (4.4.2)\n",
      "Requirement already satisfied: appnope in /opt/anaconda3/lib/python3.8/site-packages (from ipython>=1.0->ipython-sql) (0.1.0)\n",
      "Requirement already satisfied: pickleshare in /opt/anaconda3/lib/python3.8/site-packages (from ipython>=1.0->ipython-sql) (0.7.5)\n",
      "Requirement already satisfied: pexpect>4.3 in /opt/anaconda3/lib/python3.8/site-packages (from ipython>=1.0->ipython-sql) (4.8.0)\n",
      "Requirement already satisfied: traitlets>=4.2 in /opt/anaconda3/lib/python3.8/site-packages (from ipython>=1.0->ipython-sql) (5.0.5)\n",
      "Requirement already satisfied: jedi>=0.10 in /opt/anaconda3/lib/python3.8/site-packages (from ipython>=1.0->ipython-sql) (0.17.1)\n",
      "Requirement already satisfied: setuptools>=18.5 in /opt/anaconda3/lib/python3.8/site-packages (from ipython>=1.0->ipython-sql) (57.0.0)\n",
      "Requirement already satisfied: pygments in /opt/anaconda3/lib/python3.8/site-packages (from ipython>=1.0->ipython-sql) (2.7.2)\n",
      "Requirement already satisfied: backcall in /opt/anaconda3/lib/python3.8/site-packages (from ipython>=1.0->ipython-sql) (0.2.0)\n",
      "Requirement already satisfied: prompt-toolkit!=3.0.0,!=3.0.1,<3.1.0,>=2.0.0 in /opt/anaconda3/lib/python3.8/site-packages (from ipython>=1.0->ipython-sql) (3.0.8)\n",
      "Requirement already satisfied: parso<0.8.0,>=0.7.0 in /opt/anaconda3/lib/python3.8/site-packages (from jedi>=0.10->ipython>=1.0->ipython-sql) (0.7.0)\n",
      "Requirement already satisfied: ptyprocess>=0.5 in /opt/anaconda3/lib/python3.8/site-packages (from pexpect>4.3->ipython>=1.0->ipython-sql) (0.6.0)\n",
      "Requirement already satisfied: wcwidth in /opt/anaconda3/lib/python3.8/site-packages (from prompt-toolkit!=3.0.0,!=3.0.1,<3.1.0,>=2.0.0->ipython>=1.0->ipython-sql) (0.2.5)\n"
     ]
    }
   ],
   "source": [
    "#I thought this way of connecting was easier to work with\n",
    "!pip install ipython-sql\n",
    "%load_ext sql\n",
    "%sql sqlite:///sqlite_db_pythonsqlite.db"
   ]
  },
  {
   "cell_type": "markdown",
   "metadata": {},
   "source": [
    "Q1: Some of the facilities charge a fee to members, but some do not.\n",
    "Write a SQL query to produce a list of the names of the facilities that do."
   ]
  },
  {
   "cell_type": "code",
   "execution_count": 2,
   "metadata": {},
   "outputs": [
    {
     "name": "stdout",
     "output_type": "stream",
     "text": [
      " * sqlite:///sqlite_db_pythonsqlite.db\n",
      "Done.\n"
     ]
    },
    {
     "data": {
      "text/html": [
       "<table>\n",
       "    <tr>\n",
       "        <th>facid</th>\n",
       "        <th>name</th>\n",
       "        <th>membercost</th>\n",
       "        <th>guestcost</th>\n",
       "        <th>initialoutlay</th>\n",
       "        <th>monthlymaintenance</th>\n",
       "    </tr>\n",
       "    <tr>\n",
       "        <td>0</td>\n",
       "        <td>Tennis Court 1</td>\n",
       "        <td>5</td>\n",
       "        <td>25</td>\n",
       "        <td>10000</td>\n",
       "        <td>200</td>\n",
       "    </tr>\n",
       "    <tr>\n",
       "        <td>1</td>\n",
       "        <td>Tennis Court 2</td>\n",
       "        <td>5</td>\n",
       "        <td>25</td>\n",
       "        <td>8000</td>\n",
       "        <td>200</td>\n",
       "    </tr>\n",
       "    <tr>\n",
       "        <td>4</td>\n",
       "        <td>Massage Room 1</td>\n",
       "        <td>9.9</td>\n",
       "        <td>80</td>\n",
       "        <td>4000</td>\n",
       "        <td>3000</td>\n",
       "    </tr>\n",
       "    <tr>\n",
       "        <td>5</td>\n",
       "        <td>Massage Room 2</td>\n",
       "        <td>9.9</td>\n",
       "        <td>80</td>\n",
       "        <td>4000</td>\n",
       "        <td>3000</td>\n",
       "    </tr>\n",
       "    <tr>\n",
       "        <td>6</td>\n",
       "        <td>Squash Court</td>\n",
       "        <td>3.5</td>\n",
       "        <td>17.5</td>\n",
       "        <td>5000</td>\n",
       "        <td>80</td>\n",
       "    </tr>\n",
       "</table>"
      ],
      "text/plain": [
       "[(0, 'Tennis Court 1', 5, 25, 10000, 200),\n",
       " (1, 'Tennis Court 2', 5, 25, 8000, 200),\n",
       " (4, 'Massage Room 1', 9.9, 80, 4000, 3000),\n",
       " (5, 'Massage Room 2', 9.9, 80, 4000, 3000),\n",
       " (6, 'Squash Court', 3.5, 17.5, 5000, 80)]"
      ]
     },
     "execution_count": 2,
     "metadata": {},
     "output_type": "execute_result"
    }
   ],
   "source": [
    "%sql SELECT * FROM FACILITIES WHERE membercost IS NOT 0"
   ]
  },
  {
   "cell_type": "markdown",
   "metadata": {},
   "source": [
    "Q2: How many facilities do not charge a fee to members?"
   ]
  },
  {
   "cell_type": "code",
   "execution_count": 3,
   "metadata": {},
   "outputs": [
    {
     "name": "stdout",
     "output_type": "stream",
     "text": [
      " * sqlite:///sqlite_db_pythonsqlite.db\n",
      "Done.\n"
     ]
    },
    {
     "data": {
      "text/html": [
       "<table>\n",
       "    <tr>\n",
       "        <th>COUNT(*)</th>\n",
       "    </tr>\n",
       "    <tr>\n",
       "        <td>5</td>\n",
       "    </tr>\n",
       "</table>"
      ],
      "text/plain": [
       "[(5,)]"
      ]
     },
     "execution_count": 3,
     "metadata": {},
     "output_type": "execute_result"
    }
   ],
   "source": [
    "%sql SELECT COUNT(*) FROM FACILITIES WHERE membercost IS NOT 0"
   ]
  },
  {
   "cell_type": "markdown",
   "metadata": {},
   "source": [
    "Q3: Write an SQL query to show a list of facilities that charge a fee to members,\n",
    "where the fee is less than 20% of the facility's monthly maintenance cost.\n",
    "Return the facid, facility name, member cost, and monthly maintenance of the\n",
    "facilities in question."
   ]
  },
  {
   "cell_type": "code",
   "execution_count": 4,
   "metadata": {},
   "outputs": [
    {
     "name": "stdout",
     "output_type": "stream",
     "text": [
      " * sqlite:///sqlite_db_pythonsqlite.db\n",
      "Done.\n"
     ]
    },
    {
     "data": {
      "text/html": [
       "<table>\n",
       "    <tr>\n",
       "        <th>facid</th>\n",
       "        <th>name</th>\n",
       "        <th>membercost</th>\n",
       "        <th>monthlymaintenance</th>\n",
       "    </tr>\n",
       "    <tr>\n",
       "        <td>0</td>\n",
       "        <td>Tennis Court 1</td>\n",
       "        <td>5</td>\n",
       "        <td>200</td>\n",
       "    </tr>\n",
       "    <tr>\n",
       "        <td>1</td>\n",
       "        <td>Tennis Court 2</td>\n",
       "        <td>5</td>\n",
       "        <td>200</td>\n",
       "    </tr>\n",
       "    <tr>\n",
       "        <td>4</td>\n",
       "        <td>Massage Room 1</td>\n",
       "        <td>9.9</td>\n",
       "        <td>3000</td>\n",
       "    </tr>\n",
       "    <tr>\n",
       "        <td>5</td>\n",
       "        <td>Massage Room 2</td>\n",
       "        <td>9.9</td>\n",
       "        <td>3000</td>\n",
       "    </tr>\n",
       "    <tr>\n",
       "        <td>6</td>\n",
       "        <td>Squash Court</td>\n",
       "        <td>3.5</td>\n",
       "        <td>80</td>\n",
       "    </tr>\n",
       "</table>"
      ],
      "text/plain": [
       "[(0, 'Tennis Court 1', 5, 200),\n",
       " (1, 'Tennis Court 2', 5, 200),\n",
       " (4, 'Massage Room 1', 9.9, 3000),\n",
       " (5, 'Massage Room 2', 9.9, 3000),\n",
       " (6, 'Squash Court', 3.5, 80)]"
      ]
     },
     "execution_count": 4,
     "metadata": {},
     "output_type": "execute_result"
    }
   ],
   "source": [
    "%sql SELECT facid, name, membercost, monthlymaintenance FROM FACILITIES WHERE membercost IS NOT 0 AND membercost < monthlymaintenance*.2"
   ]
  },
  {
   "cell_type": "markdown",
   "metadata": {},
   "source": [
    "Q4: Write an SQL query to retrieve the details of facilities with ID 1 and 5.\n",
    "Try writing the query without using the OR operator."
   ]
  },
  {
   "cell_type": "code",
   "execution_count": 5,
   "metadata": {},
   "outputs": [
    {
     "name": "stdout",
     "output_type": "stream",
     "text": [
      " * sqlite:///sqlite_db_pythonsqlite.db\n",
      "Done.\n"
     ]
    },
    {
     "data": {
      "text/html": [
       "<table>\n",
       "    <tr>\n",
       "        <th>facid</th>\n",
       "        <th>name</th>\n",
       "        <th>membercost</th>\n",
       "        <th>guestcost</th>\n",
       "        <th>initialoutlay</th>\n",
       "        <th>monthlymaintenance</th>\n",
       "    </tr>\n",
       "    <tr>\n",
       "        <td>1</td>\n",
       "        <td>Tennis Court 2</td>\n",
       "        <td>5</td>\n",
       "        <td>25</td>\n",
       "        <td>8000</td>\n",
       "        <td>200</td>\n",
       "    </tr>\n",
       "    <tr>\n",
       "        <td>5</td>\n",
       "        <td>Massage Room 2</td>\n",
       "        <td>9.9</td>\n",
       "        <td>80</td>\n",
       "        <td>4000</td>\n",
       "        <td>3000</td>\n",
       "    </tr>\n",
       "</table>"
      ],
      "text/plain": [
       "[(1, 'Tennis Court 2', 5, 25, 8000, 200),\n",
       " (5, 'Massage Room 2', 9.9, 80, 4000, 3000)]"
      ]
     },
     "execution_count": 5,
     "metadata": {},
     "output_type": "execute_result"
    }
   ],
   "source": [
    "%sql SELECT * FROM FACILITIES WHERE facid IN (1,5)"
   ]
  },
  {
   "cell_type": "markdown",
   "metadata": {},
   "source": [
    "Q5: Produce a list of facilities, with each labelled as\n",
    "'cheap' or 'expensive', depending on if their monthly maintenance cost is\n",
    "more than $100. Return the name and monthly maintenance of the facilities\n",
    "in question."
   ]
  },
  {
   "cell_type": "code",
   "execution_count": 6,
   "metadata": {},
   "outputs": [
    {
     "name": "stdout",
     "output_type": "stream",
     "text": [
      " * sqlite:///sqlite_db_pythonsqlite.db\n",
      "Done.\n"
     ]
    },
    {
     "data": {
      "text/html": [
       "<table>\n",
       "    <tr>\n",
       "        <th>name</th>\n",
       "        <th>monthlymaintenance</th>\n",
       "        <th>cost</th>\n",
       "    </tr>\n",
       "    <tr>\n",
       "        <td>Tennis Court 1</td>\n",
       "        <td>200</td>\n",
       "        <td>expensive</td>\n",
       "    </tr>\n",
       "    <tr>\n",
       "        <td>Tennis Court 2</td>\n",
       "        <td>200</td>\n",
       "        <td>expensive</td>\n",
       "    </tr>\n",
       "    <tr>\n",
       "        <td>Badminton Court</td>\n",
       "        <td>50</td>\n",
       "        <td>cheap</td>\n",
       "    </tr>\n",
       "    <tr>\n",
       "        <td>Table Tennis</td>\n",
       "        <td>10</td>\n",
       "        <td>cheap</td>\n",
       "    </tr>\n",
       "    <tr>\n",
       "        <td>Massage Room 1</td>\n",
       "        <td>3000</td>\n",
       "        <td>expensive</td>\n",
       "    </tr>\n",
       "    <tr>\n",
       "        <td>Massage Room 2</td>\n",
       "        <td>3000</td>\n",
       "        <td>expensive</td>\n",
       "    </tr>\n",
       "    <tr>\n",
       "        <td>Squash Court</td>\n",
       "        <td>80</td>\n",
       "        <td>cheap</td>\n",
       "    </tr>\n",
       "    <tr>\n",
       "        <td>Snooker Table</td>\n",
       "        <td>15</td>\n",
       "        <td>cheap</td>\n",
       "    </tr>\n",
       "    <tr>\n",
       "        <td>Pool Table</td>\n",
       "        <td>15</td>\n",
       "        <td>cheap</td>\n",
       "    </tr>\n",
       "</table>"
      ],
      "text/plain": [
       "[('Tennis Court 1', 200, 'expensive'),\n",
       " ('Tennis Court 2', 200, 'expensive'),\n",
       " ('Badminton Court', 50, 'cheap'),\n",
       " ('Table Tennis', 10, 'cheap'),\n",
       " ('Massage Room 1', 3000, 'expensive'),\n",
       " ('Massage Room 2', 3000, 'expensive'),\n",
       " ('Squash Court', 80, 'cheap'),\n",
       " ('Snooker Table', 15, 'cheap'),\n",
       " ('Pool Table', 15, 'cheap')]"
      ]
     },
     "execution_count": 6,
     "metadata": {},
     "output_type": "execute_result"
    }
   ],
   "source": [
    "%%sql SELECT name, monthlymaintenance,\n",
    "CASE WHEN monthlymaintenance <100 THEN \"cheap\"\n",
    "    WHEN monthlymaintenance >100 THEN \"expensive\"\n",
    "    END AS cost\n",
    "FROM FACILITIES"
   ]
  },
  {
   "cell_type": "markdown",
   "metadata": {},
   "source": [
    "Q6: You'd like to get the first and last name of the last member(s)\n",
    "who signed up. Try not to use the LIMIT clause for your solution."
   ]
  },
  {
   "cell_type": "code",
   "execution_count": 7,
   "metadata": {},
   "outputs": [
    {
     "name": "stdout",
     "output_type": "stream",
     "text": [
      " * sqlite:///sqlite_db_pythonsqlite.db\n",
      "Done.\n"
     ]
    },
    {
     "data": {
      "text/html": [
       "<table>\n",
       "    <tr>\n",
       "        <th>firstname</th>\n",
       "        <th>surname</th>\n",
       "    </tr>\n",
       "    <tr>\n",
       "        <td>Darren</td>\n",
       "        <td>Smith</td>\n",
       "    </tr>\n",
       "</table>"
      ],
      "text/plain": [
       "[('Darren', 'Smith')]"
      ]
     },
     "execution_count": 7,
     "metadata": {},
     "output_type": "execute_result"
    }
   ],
   "source": [
    "%sql SELECT firstname, surname FROM MEMBERS WHERE joindate=(SELECT max(joindate) FROM MEMBERS)"
   ]
  },
  {
   "cell_type": "markdown",
   "metadata": {},
   "source": [
    "Q7: Produce a list of all members who have used a tennis court.\n",
    "Include in your output the name of the court, and the name of the member\n",
    "formatted as a single column. Ensure no duplicate data, and order by\n",
    "the member name."
   ]
  },
  {
   "cell_type": "code",
   "execution_count": 8,
   "metadata": {},
   "outputs": [
    {
     "name": "stdout",
     "output_type": "stream",
     "text": [
      " * sqlite:///sqlite_db_pythonsqlite.db\n",
      "Done.\n"
     ]
    },
    {
     "data": {
      "text/html": [
       "<table>\n",
       "    <tr>\n",
       "        <th>member</th>\n",
       "        <th>name</th>\n",
       "    </tr>\n",
       "    <tr>\n",
       "        <td>Anne Baker</td>\n",
       "        <td>Tennis Court 1</td>\n",
       "    </tr>\n",
       "    <tr>\n",
       "        <td>Burton Tracy</td>\n",
       "        <td>Tennis Court 2</td>\n",
       "    </tr>\n",
       "    <tr>\n",
       "        <td>Charles Owen</td>\n",
       "        <td>Tennis Court 1</td>\n",
       "    </tr>\n",
       "    <tr>\n",
       "        <td>Darren Smith</td>\n",
       "        <td>Tennis Court 2</td>\n",
       "    </tr>\n",
       "    <tr>\n",
       "        <td>David Farrell</td>\n",
       "        <td>Tennis Court 1</td>\n",
       "    </tr>\n",
       "    <tr>\n",
       "        <td>David Jones</td>\n",
       "        <td>Tennis Court 2</td>\n",
       "    </tr>\n",
       "    <tr>\n",
       "        <td>David Pinker</td>\n",
       "        <td>Tennis Court 1</td>\n",
       "    </tr>\n",
       "    <tr>\n",
       "        <td>Douglas Jones</td>\n",
       "        <td>Tennis Court 1</td>\n",
       "    </tr>\n",
       "    <tr>\n",
       "        <td>Erica Crumpet</td>\n",
       "        <td>Tennis Court 1</td>\n",
       "    </tr>\n",
       "    <tr>\n",
       "        <td>Florence Bader</td>\n",
       "        <td>Tennis Court 2</td>\n",
       "    </tr>\n",
       "    <tr>\n",
       "        <td>GUEST GUEST</td>\n",
       "        <td>Tennis Court 2</td>\n",
       "    </tr>\n",
       "    <tr>\n",
       "        <td>Gerald Butters</td>\n",
       "        <td>Tennis Court 1</td>\n",
       "    </tr>\n",
       "    <tr>\n",
       "        <td>Henrietta Rumney</td>\n",
       "        <td>Tennis Court 2</td>\n",
       "    </tr>\n",
       "    <tr>\n",
       "        <td>Jack Smith</td>\n",
       "        <td>Tennis Court 1</td>\n",
       "    </tr>\n",
       "    <tr>\n",
       "        <td>Janice Joplette</td>\n",
       "        <td>Tennis Court 1</td>\n",
       "    </tr>\n",
       "    <tr>\n",
       "        <td>Jemima Farrell</td>\n",
       "        <td>Tennis Court 2</td>\n",
       "    </tr>\n",
       "    <tr>\n",
       "        <td>Joan Coplin</td>\n",
       "        <td>Tennis Court 1</td>\n",
       "    </tr>\n",
       "    <tr>\n",
       "        <td>John Hunt</td>\n",
       "        <td>Tennis Court 1</td>\n",
       "    </tr>\n",
       "    <tr>\n",
       "        <td>Matthew Genting</td>\n",
       "        <td>Tennis Court 1</td>\n",
       "    </tr>\n",
       "    <tr>\n",
       "        <td>Millicent Purview</td>\n",
       "        <td>Tennis Court 2</td>\n",
       "    </tr>\n",
       "    <tr>\n",
       "        <td>Nancy Dare</td>\n",
       "        <td>Tennis Court 2</td>\n",
       "    </tr>\n",
       "    <tr>\n",
       "        <td>Ponder Stibbons</td>\n",
       "        <td>Tennis Court 2</td>\n",
       "    </tr>\n",
       "    <tr>\n",
       "        <td>Ramnaresh Sarwin</td>\n",
       "        <td>Tennis Court 2</td>\n",
       "    </tr>\n",
       "    <tr>\n",
       "        <td>Tim Boothe</td>\n",
       "        <td>Tennis Court 2</td>\n",
       "    </tr>\n",
       "    <tr>\n",
       "        <td>Tim Rownam</td>\n",
       "        <td>Tennis Court 2</td>\n",
       "    </tr>\n",
       "    <tr>\n",
       "        <td>Timothy Baker</td>\n",
       "        <td>Tennis Court 2</td>\n",
       "    </tr>\n",
       "    <tr>\n",
       "        <td>Tracy Smith</td>\n",
       "        <td>Tennis Court 1</td>\n",
       "    </tr>\n",
       "</table>"
      ],
      "text/plain": [
       "[('Anne Baker', 'Tennis Court 1'),\n",
       " ('Burton Tracy', 'Tennis Court 2'),\n",
       " ('Charles Owen', 'Tennis Court 1'),\n",
       " ('Darren Smith', 'Tennis Court 2'),\n",
       " ('David Farrell', 'Tennis Court 1'),\n",
       " ('David Jones', 'Tennis Court 2'),\n",
       " ('David Pinker', 'Tennis Court 1'),\n",
       " ('Douglas Jones', 'Tennis Court 1'),\n",
       " ('Erica Crumpet', 'Tennis Court 1'),\n",
       " ('Florence Bader', 'Tennis Court 2'),\n",
       " ('GUEST GUEST', 'Tennis Court 2'),\n",
       " ('Gerald Butters', 'Tennis Court 1'),\n",
       " ('Henrietta Rumney', 'Tennis Court 2'),\n",
       " ('Jack Smith', 'Tennis Court 1'),\n",
       " ('Janice Joplette', 'Tennis Court 1'),\n",
       " ('Jemima Farrell', 'Tennis Court 2'),\n",
       " ('Joan Coplin', 'Tennis Court 1'),\n",
       " ('John Hunt', 'Tennis Court 1'),\n",
       " ('Matthew Genting', 'Tennis Court 1'),\n",
       " ('Millicent Purview', 'Tennis Court 2'),\n",
       " ('Nancy Dare', 'Tennis Court 2'),\n",
       " ('Ponder Stibbons', 'Tennis Court 2'),\n",
       " ('Ramnaresh Sarwin', 'Tennis Court 2'),\n",
       " ('Tim Boothe', 'Tennis Court 2'),\n",
       " ('Tim Rownam', 'Tennis Court 2'),\n",
       " ('Timothy Baker', 'Tennis Court 2'),\n",
       " ('Tracy Smith', 'Tennis Court 1')]"
      ]
     },
     "execution_count": 8,
     "metadata": {},
     "output_type": "execute_result"
    }
   ],
   "source": [
    "%%sql SELECT firstname || ' ' || surname AS member, f.name\n",
    "FROM MEMBERS as m\n",
    "INNER JOIN BOOKINGS as b\n",
    "ON m.memid=b.memid\n",
    "INNER JOIN FACILITIES as f\n",
    "ON f.facid=b.facid WHERE f.name LIKE \"Tennis Court%\"\n",
    "GROUP BY member\n",
    "ORDER BY member"
   ]
  },
  {
   "cell_type": "markdown",
   "metadata": {},
   "source": [
    "Q8: Produce a list of bookings on the day of 2012-09-14 which\n",
    "will cost the member (or guest) more than $30. Remember that guests have\n",
    "different costs to members (the listed costs are per half-hour 'slot'), and\n",
    "the guest user's ID is always 0. Include in your output the name of the\n",
    "facility, the name of the member formatted as a single column, and the cost.\n",
    "Order by descending cost, and do not use any subqueries."
   ]
  },
  {
   "cell_type": "code",
   "execution_count": 9,
   "metadata": {},
   "outputs": [
    {
     "name": "stdout",
     "output_type": "stream",
     "text": [
      " * sqlite:///sqlite_db_pythonsqlite.db\n",
      "Done.\n"
     ]
    },
    {
     "data": {
      "text/html": [
       "<table>\n",
       "    <tr>\n",
       "        <th>name</th>\n",
       "        <th>customer</th>\n",
       "        <th>cost</th>\n",
       "    </tr>\n",
       "    <tr>\n",
       "        <td>Massage Room 2</td>\n",
       "        <td>GUEST GUEST</td>\n",
       "        <td>320</td>\n",
       "    </tr>\n",
       "    <tr>\n",
       "        <td>Massage Room 1</td>\n",
       "        <td>GUEST GUEST</td>\n",
       "        <td>160</td>\n",
       "    </tr>\n",
       "    <tr>\n",
       "        <td>Massage Room 1</td>\n",
       "        <td>GUEST GUEST</td>\n",
       "        <td>160</td>\n",
       "    </tr>\n",
       "    <tr>\n",
       "        <td>Massage Room 1</td>\n",
       "        <td>GUEST GUEST</td>\n",
       "        <td>160</td>\n",
       "    </tr>\n",
       "    <tr>\n",
       "        <td>Tennis Court 2</td>\n",
       "        <td>GUEST GUEST</td>\n",
       "        <td>150</td>\n",
       "    </tr>\n",
       "    <tr>\n",
       "        <td>Tennis Court 1</td>\n",
       "        <td>GUEST GUEST</td>\n",
       "        <td>75</td>\n",
       "    </tr>\n",
       "    <tr>\n",
       "        <td>Tennis Court 1</td>\n",
       "        <td>GUEST GUEST</td>\n",
       "        <td>75</td>\n",
       "    </tr>\n",
       "    <tr>\n",
       "        <td>Tennis Court 2</td>\n",
       "        <td>GUEST GUEST</td>\n",
       "        <td>75</td>\n",
       "    </tr>\n",
       "    <tr>\n",
       "        <td>Squash Court</td>\n",
       "        <td>GUEST GUEST</td>\n",
       "        <td>70.0</td>\n",
       "    </tr>\n",
       "    <tr>\n",
       "        <td>Massage Room 1</td>\n",
       "        <td>Jemima Farrell</td>\n",
       "        <td>39.6</td>\n",
       "    </tr>\n",
       "    <tr>\n",
       "        <td>Squash Court</td>\n",
       "        <td>GUEST GUEST</td>\n",
       "        <td>35.0</td>\n",
       "    </tr>\n",
       "    <tr>\n",
       "        <td>Squash Court</td>\n",
       "        <td>GUEST GUEST</td>\n",
       "        <td>35.0</td>\n",
       "    </tr>\n",
       "</table>"
      ],
      "text/plain": [
       "[('Massage Room 2', 'GUEST GUEST', 320),\n",
       " ('Massage Room 1', 'GUEST GUEST', 160),\n",
       " ('Massage Room 1', 'GUEST GUEST', 160),\n",
       " ('Massage Room 1', 'GUEST GUEST', 160),\n",
       " ('Tennis Court 2', 'GUEST GUEST', 150),\n",
       " ('Tennis Court 1', 'GUEST GUEST', 75),\n",
       " ('Tennis Court 1', 'GUEST GUEST', 75),\n",
       " ('Tennis Court 2', 'GUEST GUEST', 75),\n",
       " ('Squash Court', 'GUEST GUEST', 70.0),\n",
       " ('Massage Room 1', 'Jemima Farrell', 39.6),\n",
       " ('Squash Court', 'GUEST GUEST', 35.0),\n",
       " ('Squash Court', 'GUEST GUEST', 35.0)]"
      ]
     },
     "execution_count": 9,
     "metadata": {},
     "output_type": "execute_result"
    }
   ],
   "source": [
    "%%sql SELECT f.name, m.firstname || ' ' || m.surname AS customer,\n",
    "CASE WHEN b.memid>0 THEN b.slots*f.membercost\n",
    "    WHEN b.memid=0 THEN b.slots*f.guestcost\n",
    "    END AS cost\n",
    "FROM MEMBERS as m\n",
    "INNER JOIN BOOKINGS as b\n",
    "ON m.memid=b.memid\n",
    "INNER JOIN FACILITIES as f\n",
    "ON f.facid=b.facid \n",
    "WHERE b.starttime LIKE \"2012-09-14%\" AND cost >30\n",
    "ORDER BY cost DESC"
   ]
  },
  {
   "cell_type": "markdown",
   "metadata": {},
   "source": [
    "Q9: This time, produce the same result as in Q8, but using a subquery."
   ]
  },
  {
   "cell_type": "code",
   "execution_count": 10,
   "metadata": {},
   "outputs": [
    {
     "name": "stdout",
     "output_type": "stream",
     "text": [
      " * sqlite:///sqlite_db_pythonsqlite.db\n",
      "Done.\n"
     ]
    },
    {
     "data": {
      "text/html": [
       "<table>\n",
       "    <tr>\n",
       "        <th>name</th>\n",
       "        <th>customer</th>\n",
       "        <th>cost</th>\n",
       "    </tr>\n",
       "    <tr>\n",
       "        <td>Massage Room 2</td>\n",
       "        <td>GUEST GUEST</td>\n",
       "        <td>320</td>\n",
       "    </tr>\n",
       "    <tr>\n",
       "        <td>Massage Room 1</td>\n",
       "        <td>GUEST GUEST</td>\n",
       "        <td>160</td>\n",
       "    </tr>\n",
       "    <tr>\n",
       "        <td>Massage Room 1</td>\n",
       "        <td>GUEST GUEST</td>\n",
       "        <td>160</td>\n",
       "    </tr>\n",
       "    <tr>\n",
       "        <td>Massage Room 1</td>\n",
       "        <td>GUEST GUEST</td>\n",
       "        <td>160</td>\n",
       "    </tr>\n",
       "    <tr>\n",
       "        <td>Tennis Court 2</td>\n",
       "        <td>GUEST GUEST</td>\n",
       "        <td>150</td>\n",
       "    </tr>\n",
       "    <tr>\n",
       "        <td>Tennis Court 1</td>\n",
       "        <td>GUEST GUEST</td>\n",
       "        <td>75</td>\n",
       "    </tr>\n",
       "    <tr>\n",
       "        <td>Tennis Court 1</td>\n",
       "        <td>GUEST GUEST</td>\n",
       "        <td>75</td>\n",
       "    </tr>\n",
       "    <tr>\n",
       "        <td>Tennis Court 2</td>\n",
       "        <td>GUEST GUEST</td>\n",
       "        <td>75</td>\n",
       "    </tr>\n",
       "    <tr>\n",
       "        <td>Squash Court</td>\n",
       "        <td>GUEST GUEST</td>\n",
       "        <td>70.0</td>\n",
       "    </tr>\n",
       "    <tr>\n",
       "        <td>Massage Room 1</td>\n",
       "        <td>Jemima Farrell</td>\n",
       "        <td>39.6</td>\n",
       "    </tr>\n",
       "    <tr>\n",
       "        <td>Squash Court</td>\n",
       "        <td>GUEST GUEST</td>\n",
       "        <td>35.0</td>\n",
       "    </tr>\n",
       "    <tr>\n",
       "        <td>Squash Court</td>\n",
       "        <td>GUEST GUEST</td>\n",
       "        <td>35.0</td>\n",
       "    </tr>\n",
       "</table>"
      ],
      "text/plain": [
       "[('Massage Room 2', 'GUEST GUEST', 320),\n",
       " ('Massage Room 1', 'GUEST GUEST', 160),\n",
       " ('Massage Room 1', 'GUEST GUEST', 160),\n",
       " ('Massage Room 1', 'GUEST GUEST', 160),\n",
       " ('Tennis Court 2', 'GUEST GUEST', 150),\n",
       " ('Tennis Court 1', 'GUEST GUEST', 75),\n",
       " ('Tennis Court 1', 'GUEST GUEST', 75),\n",
       " ('Tennis Court 2', 'GUEST GUEST', 75),\n",
       " ('Squash Court', 'GUEST GUEST', 70.0),\n",
       " ('Massage Room 1', 'Jemima Farrell', 39.6),\n",
       " ('Squash Court', 'GUEST GUEST', 35.0),\n",
       " ('Squash Court', 'GUEST GUEST', 35.0)]"
      ]
     },
     "execution_count": 10,
     "metadata": {},
     "output_type": "execute_result"
    }
   ],
   "source": [
    "%%sql SELECT f.name, m.firstname || ' ' || m.surname AS customer,\n",
    "CASE \n",
    "    WHEN \n",
    "        (SELECT b.memid \n",
    "         FROM BOOKINGS\n",
    "        ) >0 THEN b.slots*f.membercost\n",
    "    ELSE\n",
    "        b.slots*f.guestcost\n",
    "    END AS cost\n",
    "FROM MEMBERS as m\n",
    "INNER JOIN BOOKINGS as b\n",
    "ON m.memid=b.memid\n",
    "INNER JOIN FACILITIES as f\n",
    "ON f.facid=b.facid \n",
    "WHERE b.starttime LIKE \"2012-09-14%\" AND cost >30\n",
    "ORDER BY cost DESC"
   ]
  },
  {
   "cell_type": "markdown",
   "metadata": {},
   "source": [
    "Q10: Produce a list of facilities with a total revenue less than 1000.\n",
    "The output of facility name and total revenue, sorted by revenue. Remember\n",
    "that there's a different cost for guests and members!"
   ]
  },
  {
   "cell_type": "code",
   "execution_count": 11,
   "metadata": {},
   "outputs": [
    {
     "name": "stdout",
     "output_type": "stream",
     "text": [
      " * sqlite:///sqlite_db_pythonsqlite.db\n",
      "Done.\n"
     ]
    },
    {
     "data": {
      "text/html": [
       "<table>\n",
       "    <tr>\n",
       "        <th>name</th>\n",
       "        <th>totalrevenue</th>\n",
       "    </tr>\n",
       "    <tr>\n",
       "        <td>Table Tennis</td>\n",
       "        <td>180</td>\n",
       "    </tr>\n",
       "    <tr>\n",
       "        <td>Snooker Table</td>\n",
       "        <td>240</td>\n",
       "    </tr>\n",
       "    <tr>\n",
       "        <td>Pool Table</td>\n",
       "        <td>270</td>\n",
       "    </tr>\n",
       "</table>"
      ],
      "text/plain": [
       "[('Table Tennis', 180), ('Snooker Table', 240), ('Pool Table', 270)]"
      ]
     },
     "execution_count": 11,
     "metadata": {},
     "output_type": "execute_result"
    }
   ],
   "source": [
    "%%sql SELECT f.name, \n",
    "    SUM(CASE \n",
    "        WHEN b.memid>0 THEN b.slots*f.membercost\n",
    "        WHEN b.memid=0 THEN b.slots*f.guestcost\n",
    "    END) AS totalrevenue\n",
    "FROM BOOKINGS AS b\n",
    "INNER JOIN FACILITIES AS f\n",
    "ON b.facid=f.facid \n",
    "GROUP BY f.name\n",
    "HAVING totalrevenue <1000\n",
    "ORDER BY totalrevenue"
   ]
  },
  {
   "cell_type": "markdown",
   "metadata": {},
   "source": [
    "Q11: Produce a report of members and who recommended them in alphabetic surname,firstname order"
   ]
  },
  {
   "cell_type": "code",
   "execution_count": 12,
   "metadata": {},
   "outputs": [
    {
     "name": "stdout",
     "output_type": "stream",
     "text": [
      " * sqlite:///sqlite_db_pythonsqlite.db\n",
      "Done.\n"
     ]
    },
    {
     "data": {
      "text/html": [
       "<table>\n",
       "    <tr>\n",
       "        <th>customer</th>\n",
       "        <th>referralsource</th>\n",
       "    </tr>\n",
       "    <tr>\n",
       "        <td>Bader, Florence</td>\n",
       "        <td>Stibbons, Ponder</td>\n",
       "    </tr>\n",
       "    <tr>\n",
       "        <td>Baker, Anne</td>\n",
       "        <td>Stibbons, Ponder</td>\n",
       "    </tr>\n",
       "    <tr>\n",
       "        <td>Baker, Timothy</td>\n",
       "        <td>Farrell, Jemima</td>\n",
       "    </tr>\n",
       "    <tr>\n",
       "        <td>Boothe, Tim</td>\n",
       "        <td>Rownam, Tim</td>\n",
       "    </tr>\n",
       "    <tr>\n",
       "        <td>Butters, Gerald</td>\n",
       "        <td>Smith, Darren</td>\n",
       "    </tr>\n",
       "    <tr>\n",
       "        <td>Coplin, Joan</td>\n",
       "        <td>Baker, Timothy</td>\n",
       "    </tr>\n",
       "    <tr>\n",
       "        <td>Crumpet, Erica</td>\n",
       "        <td>Smith, Tracy</td>\n",
       "    </tr>\n",
       "    <tr>\n",
       "        <td>Dare, Nancy</td>\n",
       "        <td>Joplette, Janice</td>\n",
       "    </tr>\n",
       "    <tr>\n",
       "        <td>Genting, Matthew</td>\n",
       "        <td>Butters, Gerald</td>\n",
       "    </tr>\n",
       "    <tr>\n",
       "        <td>Hunt, John</td>\n",
       "        <td>Purview, Millicent</td>\n",
       "    </tr>\n",
       "    <tr>\n",
       "        <td>Jones, David</td>\n",
       "        <td>Joplette, Janice</td>\n",
       "    </tr>\n",
       "    <tr>\n",
       "        <td>Jones, Douglas</td>\n",
       "        <td>Jones, David</td>\n",
       "    </tr>\n",
       "    <tr>\n",
       "        <td>Joplette, Janice</td>\n",
       "        <td>Smith, Darren</td>\n",
       "    </tr>\n",
       "    <tr>\n",
       "        <td>Mackenzie, Anna</td>\n",
       "        <td>Smith, Darren</td>\n",
       "    </tr>\n",
       "    <tr>\n",
       "        <td>Owen, Charles</td>\n",
       "        <td>Smith, Darren</td>\n",
       "    </tr>\n",
       "    <tr>\n",
       "        <td>Pinker, David</td>\n",
       "        <td>Farrell, Jemima</td>\n",
       "    </tr>\n",
       "    <tr>\n",
       "        <td>Purview, Millicent</td>\n",
       "        <td>Smith, Tracy</td>\n",
       "    </tr>\n",
       "    <tr>\n",
       "        <td>Rumney, Henrietta</td>\n",
       "        <td>Genting, Matthew</td>\n",
       "    </tr>\n",
       "    <tr>\n",
       "        <td>Sarwin, Ramnaresh</td>\n",
       "        <td>Bader, Florence</td>\n",
       "    </tr>\n",
       "    <tr>\n",
       "        <td>Smith, Jack</td>\n",
       "        <td>Smith, Darren</td>\n",
       "    </tr>\n",
       "    <tr>\n",
       "        <td>Stibbons, Ponder</td>\n",
       "        <td>Tracy, Burton</td>\n",
       "    </tr>\n",
       "    <tr>\n",
       "        <td>Worthington-Smyth, Henry</td>\n",
       "        <td>Smith, Tracy</td>\n",
       "    </tr>\n",
       "</table>"
      ],
      "text/plain": [
       "[('Bader, Florence', 'Stibbons, Ponder'),\n",
       " ('Baker, Anne', 'Stibbons, Ponder'),\n",
       " ('Baker, Timothy', 'Farrell, Jemima'),\n",
       " ('Boothe, Tim', 'Rownam, Tim'),\n",
       " ('Butters, Gerald', 'Smith, Darren'),\n",
       " ('Coplin, Joan', 'Baker, Timothy'),\n",
       " ('Crumpet, Erica', 'Smith, Tracy'),\n",
       " ('Dare, Nancy', 'Joplette, Janice'),\n",
       " ('Genting, Matthew', 'Butters, Gerald'),\n",
       " ('Hunt, John', 'Purview, Millicent'),\n",
       " ('Jones, David', 'Joplette, Janice'),\n",
       " ('Jones, Douglas', 'Jones, David'),\n",
       " ('Joplette, Janice', 'Smith, Darren'),\n",
       " ('Mackenzie, Anna', 'Smith, Darren'),\n",
       " ('Owen, Charles', 'Smith, Darren'),\n",
       " ('Pinker, David', 'Farrell, Jemima'),\n",
       " ('Purview, Millicent', 'Smith, Tracy'),\n",
       " ('Rumney, Henrietta', 'Genting, Matthew'),\n",
       " ('Sarwin, Ramnaresh', 'Bader, Florence'),\n",
       " ('Smith, Jack', 'Smith, Darren'),\n",
       " ('Stibbons, Ponder', 'Tracy, Burton'),\n",
       " ('Worthington-Smyth, Henry', 'Smith, Tracy')]"
      ]
     },
     "execution_count": 12,
     "metadata": {},
     "output_type": "execute_result"
    }
   ],
   "source": [
    "%%sql \n",
    "SELECT customer.surname || ', ' || customer.firstname AS customer, recommend.surname || ', ' || recommend.firstname AS referralsource\n",
    "FROM MEMBERS customer, MEMBERS recommend\n",
    "WHERE customer.recommendedby = recommend.memid\n",
    "ORDER BY customer"
   ]
  },
  {
   "cell_type": "markdown",
   "metadata": {},
   "source": [
    "Q12: Find the facilities with their usage by member, but not guests"
   ]
  },
  {
   "cell_type": "code",
   "execution_count": 13,
   "metadata": {},
   "outputs": [
    {
     "name": "stdout",
     "output_type": "stream",
     "text": [
      " * sqlite:///sqlite_db_pythonsqlite.db\n",
      "Done.\n"
     ]
    },
    {
     "data": {
      "text/html": [
       "<table>\n",
       "    <tr>\n",
       "        <th>name</th>\n",
       "        <th>slotsbooked</th>\n",
       "    </tr>\n",
       "    <tr>\n",
       "        <td>Badminton Court</td>\n",
       "        <td>1086</td>\n",
       "    </tr>\n",
       "    <tr>\n",
       "        <td>Massage Room 1</td>\n",
       "        <td>884</td>\n",
       "    </tr>\n",
       "    <tr>\n",
       "        <td>Massage Room 2</td>\n",
       "        <td>54</td>\n",
       "    </tr>\n",
       "    <tr>\n",
       "        <td>Pool Table</td>\n",
       "        <td>856</td>\n",
       "    </tr>\n",
       "    <tr>\n",
       "        <td>Snooker Table</td>\n",
       "        <td>860</td>\n",
       "    </tr>\n",
       "    <tr>\n",
       "        <td>Squash Court</td>\n",
       "        <td>418</td>\n",
       "    </tr>\n",
       "    <tr>\n",
       "        <td>Table Tennis</td>\n",
       "        <td>794</td>\n",
       "    </tr>\n",
       "    <tr>\n",
       "        <td>Tennis Court 1</td>\n",
       "        <td>957</td>\n",
       "    </tr>\n",
       "    <tr>\n",
       "        <td>Tennis Court 2</td>\n",
       "        <td>882</td>\n",
       "    </tr>\n",
       "</table>"
      ],
      "text/plain": [
       "[('Badminton Court', 1086),\n",
       " ('Massage Room 1', 884),\n",
       " ('Massage Room 2', 54),\n",
       " ('Pool Table', 856),\n",
       " ('Snooker Table', 860),\n",
       " ('Squash Court', 418),\n",
       " ('Table Tennis', 794),\n",
       " ('Tennis Court 1', 957),\n",
       " ('Tennis Court 2', 882)]"
      ]
     },
     "execution_count": 13,
     "metadata": {},
     "output_type": "execute_result"
    }
   ],
   "source": [
    "%%sql SELECT f.name, SUM(b.slots) AS slotsbooked\n",
    "FROM FACILITIES AS f\n",
    "INNER JOIN BOOKINGS AS b\n",
    "ON f.facid=b.facid\n",
    "WHERE b.memid <> 0\n",
    "GROUP BY f.name\n",
    "ORDER BY f.name"
   ]
  },
  {
   "cell_type": "markdown",
   "metadata": {},
   "source": [
    "Q13: Find the facilities usage by month, but not guests"
   ]
  },
  {
   "cell_type": "code",
   "execution_count": 14,
   "metadata": {},
   "outputs": [
    {
     "name": "stdout",
     "output_type": "stream",
     "text": [
      " * sqlite:///sqlite_db_pythonsqlite.db\n",
      "Done.\n"
     ]
    },
    {
     "data": {
      "text/html": [
       "<table>\n",
       "    <tr>\n",
       "        <th>name</th>\n",
       "        <th>slotsbooked</th>\n",
       "        <th>month</th>\n",
       "    </tr>\n",
       "    <tr>\n",
       "        <td>Badminton Court</td>\n",
       "        <td>1086</td>\n",
       "        <td>2012-07</td>\n",
       "    </tr>\n",
       "    <tr>\n",
       "        <td>Massage Room 1</td>\n",
       "        <td>884</td>\n",
       "        <td>2012-07</td>\n",
       "    </tr>\n",
       "    <tr>\n",
       "        <td>Massage Room 2</td>\n",
       "        <td>54</td>\n",
       "        <td>2012-07</td>\n",
       "    </tr>\n",
       "    <tr>\n",
       "        <td>Pool Table</td>\n",
       "        <td>856</td>\n",
       "        <td>2012-07</td>\n",
       "    </tr>\n",
       "    <tr>\n",
       "        <td>Snooker Table</td>\n",
       "        <td>860</td>\n",
       "        <td>2012-07</td>\n",
       "    </tr>\n",
       "    <tr>\n",
       "        <td>Squash Court</td>\n",
       "        <td>418</td>\n",
       "        <td>2012-07</td>\n",
       "    </tr>\n",
       "    <tr>\n",
       "        <td>Table Tennis</td>\n",
       "        <td>794</td>\n",
       "        <td>2012-07</td>\n",
       "    </tr>\n",
       "    <tr>\n",
       "        <td>Tennis Court 1</td>\n",
       "        <td>957</td>\n",
       "        <td>2012-07</td>\n",
       "    </tr>\n",
       "    <tr>\n",
       "        <td>Tennis Court 2</td>\n",
       "        <td>882</td>\n",
       "        <td>2012-07</td>\n",
       "    </tr>\n",
       "</table>"
      ],
      "text/plain": [
       "[('Badminton Court', 1086, '2012-07'),\n",
       " ('Massage Room 1', 884, '2012-07'),\n",
       " ('Massage Room 2', 54, '2012-07'),\n",
       " ('Pool Table', 856, '2012-07'),\n",
       " ('Snooker Table', 860, '2012-07'),\n",
       " ('Squash Court', 418, '2012-07'),\n",
       " ('Table Tennis', 794, '2012-07'),\n",
       " ('Tennis Court 1', 957, '2012-07'),\n",
       " ('Tennis Court 2', 882, '2012-07')]"
      ]
     },
     "execution_count": 14,
     "metadata": {},
     "output_type": "execute_result"
    }
   ],
   "source": [
    "%%sql \n",
    "SELECT f.name, SUM(b.slots) AS slotsbooked, strftime('%Y-%m',b.starttime) AS month\n",
    "FROM FACILITIES AS f\n",
    "INNER JOIN BOOKINGS AS b\n",
    "ON f.facid=b.facid\n",
    "WHERE b.memid <> 0\n",
    "GROUP BY f.name\n",
    "ORDER BY f.name"
   ]
  },
  {
   "cell_type": "code",
   "execution_count": null,
   "metadata": {},
   "outputs": [],
   "source": []
  },
  {
   "cell_type": "code",
   "execution_count": null,
   "metadata": {},
   "outputs": [],
   "source": []
  }
 ],
 "metadata": {
  "kernelspec": {
   "display_name": "Python 3",
   "language": "python",
   "name": "python3"
  },
  "language_info": {
   "codemirror_mode": {
    "name": "ipython",
    "version": 3
   },
   "file_extension": ".py",
   "mimetype": "text/x-python",
   "name": "python",
   "nbconvert_exporter": "python",
   "pygments_lexer": "ipython3",
   "version": "3.8.5"
  }
 },
 "nbformat": 4,
 "nbformat_minor": 4
}
